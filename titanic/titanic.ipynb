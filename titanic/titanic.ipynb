{
 "cells": [
  {
   "cell_type": "code",
   "execution_count": 4,
   "metadata": {},
   "outputs": [
    {
     "name": "stdout",
     "output_type": "stream",
     "text": [
      "% of women who survived: 0.7420382165605095\n",
      "False\n",
      "Your submission was successfully saved!\n"
     ]
    }
   ],
   "source": [
    "import os\n",
    "import pandas as pd\n",
    "import numpy as np\n",
    "train_data = pd.read_csv(\"input/train.csv\")\n",
    "train_data.head()\n",
    "# feature cleaning\n",
    "train_data[\"Age\"] = train_data[\"Age\"].fillna(train_data[\"Age\"].mean())\n",
    "train_data[\"Fare\"] = train_data[\"Fare\"].fillna(train_data[\"Fare\"].mean())\n",
    "test_data = pd.read_csv(\"input/test.csv\")\n",
    "test_data.head()\n",
    "test_data[\"Age\"] = test_data[\"Age\"].fillna(train_data[\"Age\"].mean())\n",
    "test_data[\"Fare\"] = test_data[\"Fare\"].fillna(train_data[\"Fare\"].mean())\n",
    "women = train_data.loc[train_data.Sex == 'female'][\"Survived\"]\n",
    "rate_women = sum(women)/len(women)\n",
    "\n",
    "print(\"% of women who survived:\", rate_women)\n",
    "from sklearn.ensemble import RandomForestClassifier\n",
    "from sklearn.linear_model import LogisticRegression\n",
    "\n",
    "y = train_data[\"Survived\"]\n",
    "\n",
    "features = [\"Pclass\", \"Sex\", \"SibSp\", \"Parch\", \"Fare\", \"Age\"]\n",
    "X = pd.get_dummies(train_data[features])\n",
    "X_test = pd.get_dummies(test_data[features])\n",
    "\n",
    "print(X_test.isnull().values.any())\n",
    "model = RandomForestClassifier(n_estimators=1000, max_depth=10, random_state=1)\n",
    "#model = LogisticRegression(solver=\"liblinear\")\n",
    "model.fit(X, y)\n",
    "predictions = model.predict(X_test)\n",
    "\n",
    "output = pd.DataFrame({'PassengerId': test_data.PassengerId, 'Survived': predictions})\n",
    "output.to_csv('output/my_submission_rf.csv', index=False)\n",
    "print(\"Your submission was successfully saved!\")"
   ]
  },
  {
   "cell_type": "code",
   "execution_count": null,
   "metadata": {},
   "outputs": [],
   "source": []
  }
 ],
 "metadata": {
  "kernelspec": {
   "display_name": "Python 3",
   "language": "python",
   "name": "python3"
  },
  "language_info": {
   "codemirror_mode": {
    "name": "ipython",
    "version": 3
   },
   "file_extension": ".py",
   "mimetype": "text/x-python",
   "name": "python",
   "nbconvert_exporter": "python",
   "pygments_lexer": "ipython3",
   "version": "3.7.3"
  }
 },
 "nbformat": 4,
 "nbformat_minor": 2
}
