{
 "cells": [
  {
   "cell_type": "code",
   "execution_count": 4,
   "metadata": {},
   "outputs": [
    {
     "name": "stdout",
     "output_type": "stream",
     "text": [
      "% of women who survived: 0.7420382165605095\n",
      "False\n",
      "Your submission was successfully saved!\n"
     ]
    }
   ],
   "source": [
    "import os\n",
    "import pandas as pd\n",
    "import numpy as np\n",
    "train_data = pd.read_csv(\"input/train.csv\")\n",
    "train_data.head()\n",
    "# feature cleaning\n",
    "train_data[\"Age\"] = train_data[\"Age\"].fillna(train_data[\"Age\"].mean())\n",
    "train_data[\"Fare\"] = train_data[\"Fare\"].fillna(train_data[\"Fare\"].mean())\n",
    "test_data = pd.read_csv(\"input/test.csv\")\n",
    "test_data.head()\n",
    "test_data[\"Age\"] = test_data[\"Age\"].fillna(train_data[\"Age\"].mean())\n",
    "test_data[\"Fare\"] = test_data[\"Fare\"].fillna(train_data[\"Fare\"].mean())\n",
    "women = train_data.loc[train_data.Sex == 'female'][\"Survived\"]\n",
    "rate_women = sum(women)/len(women)\n",
    "\n",
    "print(\"% of women who survived:\", rate_women)\n",
    "from sklearn.ensemble import RandomForestClassifier\n",
    "from sklearn.linear_model import LogisticRegression\n",
    "\n",
    "y = train_data[\"Survived\"]\n",
    "\n",
    "features = [\"Pclass\", \"Sex\", \"SibSp\", \"Parch\", \"Fare\", \"Age\"]\n",
    "X = pd.get_dummies(train_data[features])\n",
    "X_test = pd.get_dummies(test_data[features])\n",
    "\n",
    "print(X_test.isnull().values.any())\n",
    "model = RandomForestClassifier(n_estimators=1000, max_depth=10, random_state=1)\n",
    "#model = LogisticRegression(solver=\"liblinear\")\n",
    "model.fit(X, y)\n",
    "predictions = model.predict(X_test)\n",
    "\n",
    "output = pd.DataFrame({'PassengerId': test_data.PassengerId, 'Survived': predictions})\n",
    "output.to_csv('output/my_submission_rf.csv', index=False)\n",
    "print(\"Your submission was successfully saved!\")"
   ]
  },
  {
   "cell_type": "code",
   "execution_count": null,
   "metadata": {},
   "outputs": [],
   "source": [
    "# **********************"
   ]
  },
  {
   "cell_type": "code",
   "execution_count": 17,
   "metadata": {
    "scrolled": false
   },
   "outputs": [
    {
     "name": "stdout",
     "output_type": "stream",
     "text": [
      "<class 'pandas.core.frame.DataFrame'>\n",
      "RangeIndex: 891 entries, 0 to 890\n",
      "Data columns (total 12 columns):\n",
      "PassengerId    891 non-null int64\n",
      "Survived       891 non-null int64\n",
      "Pclass         891 non-null int64\n",
      "Name           891 non-null object\n",
      "Sex            891 non-null object\n",
      "Age            714 non-null float64\n",
      "SibSp          891 non-null int64\n",
      "Parch          891 non-null int64\n",
      "Ticket         891 non-null object\n",
      "Fare           891 non-null float64\n",
      "Cabin          204 non-null object\n",
      "Embarked       889 non-null object\n",
      "dtypes: float64(2), int64(5), object(5)\n",
      "memory usage: 83.6+ KB\n",
      "None\n",
      "   Pclass  Survived\n",
      "0       1  0.629630\n",
      "1       2  0.472826\n",
      "2       3  0.242363\n",
      "      Sex  Survived\n",
      "0  female  0.742038\n",
      "1    male  0.188908\n",
      "   SibSp  Survived\n",
      "1      1  0.535885\n",
      "2      2  0.464286\n",
      "0      0  0.345395\n",
      "3      3  0.250000\n",
      "4      4  0.166667\n",
      "5      5  0.000000\n",
      "6      8  0.000000\n",
      "   Parch  Survived\n",
      "3      3  0.600000\n",
      "1      1  0.550847\n",
      "2      2  0.500000\n",
      "0      0  0.343658\n",
      "5      5  0.200000\n",
      "4      4  0.000000\n",
      "6      6  0.000000\n",
      "  Embarked  Survived\n",
      "0        C  0.553571\n",
      "1        Q  0.389610\n",
      "2        S  0.336957\n"
     ]
    },
    {
     "name": "stderr",
     "output_type": "stream",
     "text": [
      "/Users/mtdp1/anaconda3/lib/python3.7/site-packages/ipykernel_launcher.py:101: SettingWithCopyWarning: \n",
      "A value is trying to be set on a copy of a slice from a DataFrame.\n",
      "Try using .loc[row_indexer,col_indexer] = value instead\n",
      "\n",
      "See the caveats in the documentation: http://pandas.pydata.org/pandas-docs/stable/indexing.html#indexing-view-versus-copy\n",
      "/Users/mtdp1/anaconda3/lib/python3.7/site-packages/ipykernel_launcher.py:80: SettingWithCopyWarning: \n",
      "A value is trying to be set on a copy of a slice from a DataFrame.\n",
      "Try using .loc[row_indexer,col_indexer] = value instead\n",
      "\n",
      "See the caveats in the documentation: http://pandas.pydata.org/pandas-docs/stable/indexing.html#indexing-view-versus-copy\n",
      "/Users/mtdp1/anaconda3/lib/python3.7/site-packages/ipykernel_launcher.py:81: SettingWithCopyWarning: \n",
      "A value is trying to be set on a copy of a slice from a DataFrame.\n",
      "Try using .loc[row_indexer,col_indexer] = value instead\n",
      "\n",
      "See the caveats in the documentation: http://pandas.pydata.org/pandas-docs/stable/indexing.html#indexing-view-versus-copy\n"
     ]
    },
    {
     "name": "stdout",
     "output_type": "stream",
     "text": [
      "DATA HEAD : **************************************************************************\n",
      "    Pclass  SibSp  Parch     Fare  Age  FimalySize  Sex_female  Sex_male  \\\n",
      "3       1      1      0  53.1000    0           2           1         0   \n",
      "4       3      0      0   8.0500    0           1           0         1   \n",
      "5       3      0      0   8.4583    0           1           0         1   \n",
      "6       1      0      0  51.8625    0           1           0         1   \n",
      "7       3      3      1  21.0750    1           5           0         1   \n",
      "\n",
      "   Embarked_C  Embarked_Q  Embarked_S  \n",
      "3           0           0           1  \n",
      "4           0           0           1  \n",
      "5           0           1           0  \n",
      "6           0           0           1  \n",
      "7           0           0           1   \n",
      "\n",
      "DATA HEAD : **************************************************************************\n",
      "     Pclass  SibSp  Parch     Fare  Age  FimalySize  Sex_female  Sex_male  \\\n",
      "0        3      1      0   7.2500    0           2           0         1   \n",
      "1        1      1      0  71.2833    0           2           1         0   \n",
      "2        3      0      0   7.9250    0           1           1         0   \n",
      "14       3      0      0   7.8542    1           1           1         0   \n",
      "17       2      0      0  13.0000    0           1           0         1   \n",
      "\n",
      "    Embarked_C  Embarked_Q  Embarked_S  \n",
      "0            0           0           1  \n",
      "1            1           0           0  \n",
      "2            0           0           1  \n",
      "14           0           0           1  \n",
      "17           0           0           1   \n",
      "\n",
      "DATA HEAD : **************************************************************************\n",
      "    Pclass  SibSp  Parch     Fare  Age  FimalySize  Sex_female  Sex_male  \\\n",
      "0       3      0      0   7.8292    0           1           0         1   \n",
      "1       3      1      0   7.0000    0           2           1         0   \n",
      "2       2      0      0   9.6875    0           1           0         1   \n",
      "3       3      0      0   8.6625    0           1           0         1   \n",
      "4       3      1      1  12.2875    0           3           1         0   \n",
      "\n",
      "   Embarked_C  Embarked_Q  Embarked_S  \n",
      "0           0           1           0  \n",
      "1           0           0           1  \n",
      "2           0           1           0  \n",
      "3           0           0           1  \n",
      "4           0           0           1   \n",
      "\n",
      "LR ---Model Evaluation Report:  LogisticRegression(C=1.0, class_weight=None, dual=False, fit_intercept=True,\n",
      "                   intercept_scaling=1, l1_ratio=None, max_iter=100,\n",
      "                   multi_class='warn', n_jobs=None, penalty='l2',\n",
      "                   random_state=None, solver='liblinear', tol=0.0001, verbose=0,\n",
      "                   warm_start=False)\n",
      "[[192  29]\n",
      " [ 42 102]]\n",
      "precision:  0.7786259541984732\n",
      "recall:  0.7083333333333334\n",
      "f1-score:  0.7418181818181818\n"
     ]
    },
    {
     "data": {
      "image/png": "[encoded data removed]",
      "text/plain": [
       "<Figure size 432x288 with 1 Axes>"
      ]
     },
     "metadata": {
      "needs_background": "light"
     },
     "output_type": "display_data"
    },
    {
     "name": "stdout",
     "output_type": "stream",
     "text": [
      "auc:  0.8718577174459528\n"
     ]
    },
    {
     "data": {
      "image/png": "[encoded data removed]",
      "text/plain": [
       "<Figure size 432x288 with 1 Axes>"
      ]
     },
     "metadata": {
      "needs_background": "light"
     },
     "output_type": "display_data"
    },
    {
     "name": "stdout",
     "output_type": "stream",
     "text": [
      "RF ---Model Evaluation Report:  RandomForestClassifier(bootstrap=True, class_weight=None, criterion='gini',\n",
      "                       max_depth=10, max_features='auto', max_leaf_nodes=None,\n",
      "                       min_impurity_decrease=0.0, min_impurity_split=None,\n",
      "                       min_samples_leaf=1, min_samples_split=2,\n",
      "                       min_weight_fraction_leaf=0.0, n_estimators=1000,\n",
      "                       n_jobs=None, oob_score=False, random_state=1, verbose=0,\n",
      "                       warm_start=False)\n",
      "[[197  24]\n",
      " [ 37 107]]\n",
      "precision:  0.816793893129771\n",
      "recall:  0.7430555555555556\n",
      "f1-score:  0.7781818181818182\n"
     ]
    },
    {
     "data": {
      "image/png": "[encoded data removed]",
      "text/plain": [
       "<Figure size 432x288 with 1 Axes>"
      ]
     },
     "metadata": {
      "needs_background": "light"
     },
     "output_type": "display_data"
    },
    {
     "name": "stdout",
     "output_type": "stream",
     "text": [
      "auc:  0.8585658622423329\n"
     ]
    },
    {
     "data": {
      "image/png": "[encoded data removed]",
      "text/plain": [
       "<Figure size 432x288 with 1 Axes>"
      ]
     },
     "metadata": {
      "needs_background": "light"
     },
     "output_type": "display_data"
    },
    {
     "name": "stdout",
     "output_type": "stream",
     "text": [
      "XGB ---Model Evaluation Report:  XGBClassifier(base_score=0.5, booster='gbtree', colsample_bylevel=1,\n",
      "              colsample_bynode=1, colsample_bytree=1, gamma=0,\n",
      "              learning_rate=0.01, max_delta_step=0, max_depth=5,\n",
      "              min_child_weight=1, missing=None, n_estimators=50, n_jobs=1,\n",
      "              nthread=None, objective='binary:logistic', random_state=0,\n",
      "              reg_alpha=0, reg_lambda=1, scale_pos_weight=1, seed=None,\n",
      "              silent=True, subsample=1, verbosity=1)\n",
      "[[204  17]\n",
      " [ 46  98]]\n",
      "precision:  0.8521739130434782\n",
      "recall:  0.6805555555555556\n",
      "f1-score:  0.7567567567567568\n"
     ]
    },
    {
     "data": {
      "image/png": "[encoded data removed]",
      "text/plain": [
       "<Figure size 432x288 with 1 Axes>"
      ]
     },
     "metadata": {
      "needs_background": "light"
     },
     "output_type": "display_data"
    },
    {
     "name": "stdout",
     "output_type": "stream",
     "text": [
      "auc:  0.8666729512317748\n"
     ]
    },
    {
     "data": {
      "image/png": "[encoded data removed]",
      "text/plain": [
       "<Figure size 432x288 with 1 Axes>"
      ]
     },
     "metadata": {
      "needs_background": "light"
     },
     "output_type": "display_data"
    },
    {
     "name": "stdout",
     "output_type": "stream",
     "text": [
      "output/sub_XGB_2020-02-24 18:06:03.108094.csv\n",
      "Your submission output/sub_XGB_2020-02-24 18:06:03.108094.csv was successfully saved!\n"
     ]
    }
   ],
   "source": [
    "# *************************        Phase0: packages & methods *****************************\n",
    "import datetime\n",
    "import random\n",
    "import os\n",
    "import pandas as pd\n",
    "import numpy as np\n",
    "import seaborn as sns\n",
    "from matplotlib import pyplot as plt\n",
    "# ML\n",
    "from sklearn.ensemble import RandomForestClassifier\n",
    "from sklearn.linear_model import LogisticRegression\n",
    "from sklearn.metrics import confusion_matrix, precision_score, recall_score, f1_score\n",
    "from sklearn.metrics import precision_recall_curve, roc_curve, roc_auc_score\n",
    "\n",
    "# data analysis methods:\n",
    "def info_print(header, content):\n",
    "    print(header, ': **************************************************************************\\n', content, '\\n')\n",
    "    \n",
    "def value_counts(df):\n",
    "    for fea in df.columns:\n",
    "        print(df[fea].value_counts())\n",
    "        \n",
    "def group_comparison(df, label, features):\n",
    "    for fea in features:\n",
    "        print(df[[fea, label]].groupby([fea], as_index=False).mean().sort_values(by=label, ascending=False))\n",
    "    \n",
    "def facet_grid(df, label):\n",
    "    for fea in df.columns:\n",
    "        if fea != label :\n",
    "            grid = sns.FacetGrid(df, col=label)\n",
    "            grid.map(plt.hist, fea, bins=20)\n",
    "            plt.show()\n",
    "            \n",
    "def box_report(df):\n",
    "    for fea in df.columns:\n",
    "        if fea != label :\n",
    "            sns.boxplot(x = fea, data=df)\n",
    "            plt.show()\n",
    "    \n",
    "def corr_heatmap(df, label, k):\n",
    "    corr = train_data.corr()\n",
    "    sns.heatmap(corr, vmax=.8, square=True)\n",
    "    plt.show()\n",
    "    print(round(corr, 2))\n",
    "    cols = corr.nlargest(k, label)[label].index\n",
    "    cm = np.corrcoef(df[cols].values.T)\n",
    "    sns.set(font_scale=1.25)\n",
    "    hm = sns.heatmap(cm, cbar=True, annot=True, square=True, fmt='.2f', annot_kws={'size': 10}, yticklabels=cols.values, xticklabels=cols.values)\n",
    "    plt.show()\n",
    "    \n",
    "def null_report(df):\n",
    "    print('Null Statistics: **************************************************************************')\n",
    "    print('COLUMN'.ljust(20), 'NULL CNT'.ljust(20), 'NULL RATE')\n",
    "    for i in df.columns:\n",
    "        d=len(df) - df[i].count()\n",
    "        r=(d / len(df)) * 100\n",
    "        rate='%.2f%%' % r\n",
    "        print(str(i).ljust(20), str(d).ljust(20), rate)\n",
    "\n",
    "# feature engineering methods:  \n",
    "def tv_split(train_data, t_ratio):\n",
    "    random.seed(23)\n",
    "    train_data['rand'] = train_data[label].apply(lambda x: random.random())\n",
    "    # T - training set, V - validation set\n",
    "    train_data_T = train_data[train_data.rand <= t_ratio]\n",
    "    train_data_V = train_data[train_data.rand > t_ratio]\n",
    "    return train_data_T, train_data_V\n",
    "\n",
    "def feature_engineering(df, label, features, features_np):\n",
    "    y = ''\n",
    "    if label in df.columns:\n",
    "        y = df[label]\n",
    "     \n",
    "    X = df[features]\n",
    "    null_process2(X, features_np)\n",
    "    \n",
    "    # special engineering\n",
    "    if 'Name' in features:\n",
    "        X[\"Name\"] = X[\"Name\"].apply(getName)\n",
    "    X[\"FimalySize\"] = X[\"SibSp\"] + X[\"Parch\"] + 1\n",
    "    X[\"Age\"] = X[\"Age\"].apply(lambda x: 1 if x < 15 else 0)\n",
    "    \n",
    "    X = pd.get_dummies(X)\n",
    "\n",
    "    return X, y\n",
    "\n",
    "def getName(name):\n",
    "    if \"Mr\" in str(name):\n",
    "        return 1\n",
    "    elif \"Mrs\" in str(name):\n",
    "        return 2\n",
    "    else:\n",
    "        return 0     \n",
    "# def null_process(train_data, test_data, cols):\n",
    "#     for col in cols:\n",
    "#         train_data[col] = train_data[col].fillna(train_data[col].mean())\n",
    "#         test_data[col] = test_data[col].fillna(train_data[col].mean())\n",
    "        \n",
    "def null_process2(df, cols):\n",
    "    for col in cols:\n",
    "        df[col] = df[col].fillna(df[col].mean())\n",
    "\n",
    "# training methods:\n",
    "def training_pipeline(X_train, y_train, model_map):\n",
    "    for k in model_map.keys():\n",
    "        model = model_map[k]\n",
    "        model.fit(X_train, y_train)\n",
    "\n",
    "        \n",
    "# evaluation methods:\n",
    "def evaluate_pipeline(X_valid, y_valid, model_map):\n",
    "    for k in model_map.keys():\n",
    "        model = model_map[k]\n",
    "        print(k, \"---Model Evaluation Report: \", model)\n",
    "        evaluate(model, X_valid, y_valid)\n",
    "\n",
    "def plot_precision_recall_vs_threshold(precisions, recalls, thresholds): \n",
    "    plt.clf()\n",
    "    plt.plot(thresholds, precisions[:-1], \"b--\", label=\"Precision\") \n",
    "    plt.plot(thresholds, recalls[:-1], \"g-\", label=\"Recall\") \n",
    "    plt.xlabel(\"Threshold\")\n",
    "    plt.legend(loc=\"upper left\")\n",
    "    plt.ylim([0, 1])\n",
    "    plt.show()\n",
    "    \n",
    "def evaluate_binary_clf_prob(y_actual, y_prob):\n",
    "    plt.clf()\n",
    "    precisions, recalls, thresholds = precision_recall_curve(y_actual, y_prob)\n",
    "    plot_precision_recall_vs_threshold(precisions, recalls, thresholds)\n",
    "    fpr, tpr, _ = roc_curve(y_actual, y_prob)\n",
    "    plt.plot(fpr, tpr, marker='.')\n",
    "    auc = roc_auc_score(y_actual, y_prob)\n",
    "    print('auc: ', auc)\n",
    "    plt.show()\n",
    "\n",
    "def evaluate_binary_clf_bin(y_actual, y_bin):\n",
    "    plt.clf()\n",
    "    print(confusion_matrix(y_actual, y_bin))\n",
    "    print('precision: ', precision_score(y_actual, y_bin))\n",
    "    print('recall: ', recall_score(y_actual, y_bin))\n",
    "    print('f1-score: ', f1_score(y_actual, y_bin))\n",
    "    \n",
    "def evaluate(model, X, y):\n",
    "    y_bin = model.predict(X)\n",
    "    y_prob = model.predict_proba(X)[::,1]\n",
    "    evaluate_binary_clf_bin(y, y_bin)\n",
    "    evaluate_binary_clf_prob(y, y_prob)\n",
    "        \n",
    "### *************************   Phase 1: data visualization and analysis *****************************\n",
    "train_data = pd.read_csv(\"input/train.csv\")\n",
    "label = 'Survived'\n",
    "\n",
    "print (train_data.info())\n",
    "\n",
    "show_data_report = False\n",
    "if show_data_report:\n",
    "    info_print('DATA DESCRIBE', round(train_data.describe(), 2))\n",
    "    info_print('DATA HEAD', train_data.head(5))\n",
    "    \n",
    "\n",
    "# possible feature extraction\n",
    "all_cols = ['Survived', 'Pclass', 'Sex', 'SibSp', 'Parch', 'Embarked', 'Fare', 'Age']\n",
    "discrete_cols = ['Pclass', 'Sex', 'SibSp', 'Parch', 'Embarked']\n",
    "continuous_feas = ['Fare', 'Age']\n",
    "\n",
    "group_comparison(train_data, label, discrete_cols)\n",
    "# value_counts(train_data)\n",
    "if show_data_report:\n",
    "    box_report(train_data[continuous_feas])#todo: how to deal with outliers?\n",
    "    null_report(train_data)\n",
    "\n",
    "#todo: how to analyse without modifying data\n",
    "# facet_grid(train_data, label)\n",
    "# corr_heatmap(train_data, label, 20)\n",
    "\n",
    "# *************************     Phase2: feature engineering *****************************\n",
    "# features = ['Pclass', 'Sex', 'SibSp', 'Parch', 'Embarked', 'Fare', 'Age', 'Name']\n",
    "features = ['Pclass', 'Sex', 'SibSp', 'Parch', 'Embarked', 'Fare', 'Age']\n",
    "\n",
    "t_ratio = 0.6\n",
    "train_data_T, train_data_V = tv_split(train_data, t_ratio)\n",
    "\n",
    "X_train_T, y_train_T = feature_engineering(train_data_T, label, features, continuous_feas)\n",
    "X_train_V, y_train_V = feature_engineering(train_data_V, label, features, continuous_feas)\n",
    "\n",
    "\n",
    "test_data = pd.read_csv(\"input/test.csv\")\n",
    "\n",
    "X_test, y_test = feature_engineering(test_data, label, features, continuous_feas)\n",
    "\n",
    "info_print('DATA HEAD', X_train_T.head(5))\n",
    "info_print('DATA HEAD', X_train_V.head(5))\n",
    "info_print('DATA HEAD', X_test.head(5))\n",
    "# print(X_test.isnull().values.any())\n",
    "\n",
    "# *************************     Phase3: model training & evaluating *****************************\n",
    "model_map = {}\n",
    "model_map['LR'] = LogisticRegression(solver=\"liblinear\")\n",
    "model_map['RF'] = RandomForestClassifier(n_estimators=1000, max_depth=10, random_state=1)\n",
    "model_map['XGB'] = XGBClassifier(learning_rate=0.01, max_depth=5, n_estimators = 50, silent=True, objective='binary:logistic')\n",
    "\n",
    "# model_map['XGB_GSCV'] = GridSearchCV(estimator = XGBClassifier(learning_rate=0.01, max_depth=5, silent=True, objective='binary:logistic'), \n",
    "#                                      param_grid = {'learning_rate': [0.01, 0.05, 0.1, 0.5], 'n_estimators': range(30, 150, 10), 'max_depth': range(3, 15, 1)}, \n",
    "#                                      scoring='f1', cv=5)\n",
    "\n",
    "training_pipeline(X_train_T, y_train_T, model_map)\n",
    "evaluate_pipeline(X_train_V, y_train_V, model_map)\n",
    "\n",
    "best = 'XGB'\n",
    "\n",
    "y_test = model_map[best].predict(X_test)\n",
    "\n",
    "output = pd.DataFrame({'PassengerId': test_data.PassengerId, 'Survived': y_test})\n",
    "output_filename = 'output/sub_' + best + '_' + str(datetime.datetime.now()) + '.csv'\n",
    "print(output_filename)\n",
    "output.to_csv(output_filename, index=False)\n",
    "print('Your submission ' + output_filename + ' was successfully saved!')"
   ]
  },
  {
   "cell_type": "code",
   "execution_count": 8,
   "metadata": {},
   "outputs": [],
   "source": [
    "from sklearn import svm, tree, linear_model, neighbors, naive_bayes, ensemble, discriminant_analysis, gaussian_process\n",
    "from xgboost import XGBClassifier\n",
    "\n",
    "MLA = [\n",
    "    #Ensemble Methods\n",
    "    ensemble.AdaBoostClassifier(),\n",
    "    ensemble.BaggingClassifier(),\n",
    "    ensemble.ExtraTreesClassifier(),\n",
    "    ensemble.GradientBoostingClassifier(),\n",
    "    ensemble.RandomForestClassifier(),\n",
    "\n",
    "    #Gaussian Processes\n",
    "    gaussian_process.GaussianProcessClassifier(),\n",
    "    \n",
    "    #GLM\n",
    "    linear_model.LogisticRegressionCV(),\n",
    "    linear_model.PassiveAggressiveClassifier(),\n",
    "    linear_model.RidgeClassifierCV(),\n",
    "    linear_model.SGDClassifier(),\n",
    "    linear_model.Perceptron(),\n",
    "    \n",
    "    #Navies Bayes\n",
    "    naive_bayes.BernoulliNB(),\n",
    "    naive_bayes.GaussianNB(),\n",
    "    \n",
    "    #Nearest Neighbor\n",
    "    neighbors.KNeighborsClassifier(),\n",
    "    \n",
    "    #SVM\n",
    "    svm.SVC(probability=True),\n",
    "    svm.NuSVC(probability=True),\n",
    "    svm.LinearSVC(),\n",
    "    \n",
    "    #Trees    \n",
    "    tree.DecisionTreeClassifier(),\n",
    "    tree.ExtraTreeClassifier(),\n",
    "    \n",
    "    #Discriminant Analysis\n",
    "    discriminant_analysis.LinearDiscriminantAnalysis(),\n",
    "    discriminant_analysis.QuadraticDiscriminantAnalysis(),\n",
    "\n",
    "    #xgboost: http://xgboost.readthedocs.io/en/latest/model.html\n",
    "    XGBClassifier()    \n",
    "]"
   ]
  },
  {
   "cell_type": "code",
   "execution_count": 9,
   "metadata": {},
   "outputs": [],
   "source": [
    "#Common Model Helpers\n",
    "from sklearn.preprocessing import OneHotEncoder, LabelEncoder\n",
    "from sklearn import feature_selection\n",
    "from sklearn import model_selection\n",
    "from sklearn import metrics\n",
    "cv_split = model_selection.ShuffleSplit(n_splits = 10, test_size = .3, train_size = .6, random_state = 0 ) # run model 10x with 60/30 split intentionally leaving out 10%\n",
    "MLA_columns = ['MLA Name', 'MLA Parameters','MLA Train Accuracy Mean', 'MLA Test Accuracy Mean', 'MLA Test Accuracy 3*STD' ,'MLA Time']\n",
    "MLA_compare = pd.DataFrame(columns = MLA_columns)"
   ]
  },
  {
   "cell_type": "code",
   "execution_count": 16,
   "metadata": {},
   "outputs": [
    {
     "ename": "ValueError",
     "evalue": "Found input variables with inconsistent numbers of samples: [365, 366]",
     "output_type": "error",
     "traceback": [
      "\u001b[0;31m---------------------------------------------------------------------------\u001b[0m",
      "\u001b[0;31mValueError\u001b[0m                                Traceback (most recent call last)",
      "\u001b[0;32m<ipython-input-16-de2863efc4a7>\u001b[0m in \u001b[0;36m<module>\u001b[0;34m\u001b[0m\n\u001b[1;32m     12\u001b[0m \u001b[0;34m\u001b[0m\u001b[0m\n\u001b[1;32m     13\u001b[0m     \u001b[0;31m#score model with cross validation: http://scikit-learn.org/stable/modules/generated/sklearn.model_selection.cross_validate.html#sklearn.model_selection.cross_validate\u001b[0m\u001b[0;34m\u001b[0m\u001b[0;34m\u001b[0m\u001b[0;34m\u001b[0m\u001b[0m\n\u001b[0;32m---> 14\u001b[0;31m     \u001b[0mcv_results\u001b[0m \u001b[0;34m=\u001b[0m \u001b[0mmodel_selection\u001b[0m\u001b[0;34m.\u001b[0m\u001b[0mcross_validate\u001b[0m\u001b[0;34m(\u001b[0m\u001b[0malg\u001b[0m\u001b[0;34m,\u001b[0m \u001b[0mX_train_V\u001b[0m\u001b[0;34m,\u001b[0m \u001b[0my_train_V\u001b[0m\u001b[0;34m,\u001b[0m \u001b[0mcv\u001b[0m  \u001b[0;34m=\u001b[0m \u001b[0mcv_split\u001b[0m\u001b[0;34m)\u001b[0m\u001b[0;34m\u001b[0m\u001b[0;34m\u001b[0m\u001b[0m\n\u001b[0m\u001b[1;32m     15\u001b[0m \u001b[0;34m\u001b[0m\u001b[0m\n\u001b[1;32m     16\u001b[0m     \u001b[0mMLA_compare\u001b[0m\u001b[0;34m.\u001b[0m\u001b[0mloc\u001b[0m\u001b[0;34m[\u001b[0m\u001b[0mrow_index\u001b[0m\u001b[0;34m,\u001b[0m \u001b[0;34m'MLA Time'\u001b[0m\u001b[0;34m]\u001b[0m \u001b[0;34m=\u001b[0m \u001b[0mcv_results\u001b[0m\u001b[0;34m[\u001b[0m\u001b[0;34m'fit_time'\u001b[0m\u001b[0;34m]\u001b[0m\u001b[0;34m.\u001b[0m\u001b[0mmean\u001b[0m\u001b[0;34m(\u001b[0m\u001b[0;34m)\u001b[0m\u001b[0;34m\u001b[0m\u001b[0;34m\u001b[0m\u001b[0m\n",
      "\u001b[0;32m~/anaconda3/lib/python3.7/site-packages/sklearn/model_selection/_validation.py\u001b[0m in \u001b[0;36mcross_validate\u001b[0;34m(estimator, X, y, groups, scoring, cv, n_jobs, verbose, fit_params, pre_dispatch, return_train_score, return_estimator, error_score)\u001b[0m\n\u001b[1;32m    214\u001b[0m \u001b[0;34m\u001b[0m\u001b[0m\n\u001b[1;32m    215\u001b[0m     \"\"\"\n\u001b[0;32m--> 216\u001b[0;31m     \u001b[0mX\u001b[0m\u001b[0;34m,\u001b[0m \u001b[0my\u001b[0m\u001b[0;34m,\u001b[0m \u001b[0mgroups\u001b[0m \u001b[0;34m=\u001b[0m \u001b[0mindexable\u001b[0m\u001b[0;34m(\u001b[0m\u001b[0mX\u001b[0m\u001b[0;34m,\u001b[0m \u001b[0my\u001b[0m\u001b[0;34m,\u001b[0m \u001b[0mgroups\u001b[0m\u001b[0;34m)\u001b[0m\u001b[0;34m\u001b[0m\u001b[0;34m\u001b[0m\u001b[0m\n\u001b[0m\u001b[1;32m    217\u001b[0m \u001b[0;34m\u001b[0m\u001b[0m\n\u001b[1;32m    218\u001b[0m     \u001b[0mcv\u001b[0m \u001b[0;34m=\u001b[0m \u001b[0mcheck_cv\u001b[0m\u001b[0;34m(\u001b[0m\u001b[0mcv\u001b[0m\u001b[0;34m,\u001b[0m \u001b[0my\u001b[0m\u001b[0;34m,\u001b[0m \u001b[0mclassifier\u001b[0m\u001b[0;34m=\u001b[0m\u001b[0mis_classifier\u001b[0m\u001b[0;34m(\u001b[0m\u001b[0mestimator\u001b[0m\u001b[0;34m)\u001b[0m\u001b[0;34m)\u001b[0m\u001b[0;34m\u001b[0m\u001b[0;34m\u001b[0m\u001b[0m\n",
      "\u001b[0;32m~/anaconda3/lib/python3.7/site-packages/sklearn/utils/validation.py\u001b[0m in \u001b[0;36mindexable\u001b[0;34m(*iterables)\u001b[0m\n\u001b[1;32m    228\u001b[0m         \u001b[0;32melse\u001b[0m\u001b[0;34m:\u001b[0m\u001b[0;34m\u001b[0m\u001b[0;34m\u001b[0m\u001b[0m\n\u001b[1;32m    229\u001b[0m             \u001b[0mresult\u001b[0m\u001b[0;34m.\u001b[0m\u001b[0mappend\u001b[0m\u001b[0;34m(\u001b[0m\u001b[0mnp\u001b[0m\u001b[0;34m.\u001b[0m\u001b[0marray\u001b[0m\u001b[0;34m(\u001b[0m\u001b[0mX\u001b[0m\u001b[0;34m)\u001b[0m\u001b[0;34m)\u001b[0m\u001b[0;34m\u001b[0m\u001b[0;34m\u001b[0m\u001b[0m\n\u001b[0;32m--> 230\u001b[0;31m     \u001b[0mcheck_consistent_length\u001b[0m\u001b[0;34m(\u001b[0m\u001b[0;34m*\u001b[0m\u001b[0mresult\u001b[0m\u001b[0;34m)\u001b[0m\u001b[0;34m\u001b[0m\u001b[0;34m\u001b[0m\u001b[0m\n\u001b[0m\u001b[1;32m    231\u001b[0m     \u001b[0;32mreturn\u001b[0m \u001b[0mresult\u001b[0m\u001b[0;34m\u001b[0m\u001b[0;34m\u001b[0m\u001b[0m\n\u001b[1;32m    232\u001b[0m \u001b[0;34m\u001b[0m\u001b[0m\n",
      "\u001b[0;32m~/anaconda3/lib/python3.7/site-packages/sklearn/utils/validation.py\u001b[0m in \u001b[0;36mcheck_consistent_length\u001b[0;34m(*arrays)\u001b[0m\n\u001b[1;32m    203\u001b[0m     \u001b[0;32mif\u001b[0m \u001b[0mlen\u001b[0m\u001b[0;34m(\u001b[0m\u001b[0muniques\u001b[0m\u001b[0;34m)\u001b[0m \u001b[0;34m>\u001b[0m \u001b[0;36m1\u001b[0m\u001b[0;34m:\u001b[0m\u001b[0;34m\u001b[0m\u001b[0;34m\u001b[0m\u001b[0m\n\u001b[1;32m    204\u001b[0m         raise ValueError(\"Found input variables with inconsistent numbers of\"\n\u001b[0;32m--> 205\u001b[0;31m                          \" samples: %r\" % [int(l) for l in lengths])\n\u001b[0m\u001b[1;32m    206\u001b[0m \u001b[0;34m\u001b[0m\u001b[0m\n\u001b[1;32m    207\u001b[0m \u001b[0;34m\u001b[0m\u001b[0m\n",
      "\u001b[0;31mValueError\u001b[0m: Found input variables with inconsistent numbers of samples: [365, 366]"
     ]
    }
   ],
   "source": [
    "#create table to compare MLA predictions\n",
    "MLA_predict = y_train_V\n",
    "\n",
    "#index through MLA and save performance to table\n",
    "row_index = 0\n",
    "for alg in MLA:\n",
    "\n",
    "    #set name and parameters\n",
    "    MLA_name = alg.__class__.__name__\n",
    "    MLA_compare.loc[row_index, 'MLA Name'] = MLA_name\n",
    "    MLA_compare.loc[row_index, 'MLA Parameters'] = str(alg.get_params())\n",
    "    \n",
    "    #score model with cross validation: http://scikit-learn.org/stable/modules/generated/sklearn.model_selection.cross_validate.html#sklearn.model_selection.cross_validate\n",
    "    cv_results = model_selection.cross_validate(alg, X_train_V, y_train_V, cv  = cv_split)\n",
    "\n",
    "    MLA_compare.loc[row_index, 'MLA Time'] = cv_results['fit_time'].mean()\n",
    "    MLA_compare.loc[row_index, 'MLA Train Accuracy Mean'] = cv_results['train_score'].mean()\n",
    "    MLA_compare.loc[row_index, 'MLA Test Accuracy Mean'] = cv_results['test_score'].mean()   \n",
    "    #if this is a non-bias random sample, then +/-3 standard deviations (std) from the mean, should statistically capture 99.7% of the subsets\n",
    "    MLA_compare.loc[row_index, 'MLA Test Accuracy 3*STD'] = cv_results['test_score'].std()*3   #let's know the worst that can happen!\n",
    "    \n",
    "\n",
    "    #save MLA predictions - see section 6 for usage\n",
    "    alg.fit(X_train_T, y_train_T)\n",
    "    MLA_predict[MLA_name] = alg.predict(X_train_V)\n",
    "    \n",
    "    row_index+=1\n",
    "\n",
    "    \n",
    "#print and sort table: https://pandas.pydata.org/pandas-docs/stable/generated/pandas.DataFrame.sort_values.html\n",
    "MLA_compare.sort_values(by = ['MLA Test Accuracy Mean'], ascending = False, inplace = True)\n",
    "MLA_compare"
   ]
  },
  {
   "cell_type": "code",
   "execution_count": 13,
   "metadata": {},
   "outputs": [
    {
     "data": {
      "text/plain": [
       "{'fit_time': array([0.04891992, 0.04935074, 0.04665279, 0.05175805, 0.0442512 ,\n",
       "        0.04091501, 0.03769016, 0.03833389, 0.03833318, 0.04212499]),\n",
       " 'score_time': array([0.0077672 , 0.00773215, 0.01076031, 0.00683379, 0.00650787,\n",
       "        0.00575781, 0.00522995, 0.00595903, 0.00517082, 0.0058651 ]),\n",
       " 'test_score': array([0.76363636, 0.81818182, 0.76363636, 0.77272727, 0.80909091,\n",
       "        0.68181818, 0.83636364, 0.83636364, 0.73636364, 0.81818182])}"
      ]
     },
     "execution_count": 13,
     "metadata": {},
     "output_type": "execute_result"
    }
   ],
   "source": [
    "cv_results"
   ]
  },
  {
   "cell_type": "code",
   "execution_count": null,
   "metadata": {},
   "outputs": [],
   "source": []
  }
 ],
 "metadata": {
  "kernelspec": {
   "display_name": "Python 3",
   "language": "python",
   "name": "python3"
  },
  "language_info": {
   "codemirror_mode": {
    "name": "ipython",
    "version": 3
   },
   "file_extension": ".py",
   "mimetype": "text/x-python",
   "name": "python",
   "nbconvert_exporter": "python",
   "pygments_lexer": "ipython3",
   "version": "3.7.3"
  }
 },
 "nbformat": 4,
 "nbformat_minor": 2
}
